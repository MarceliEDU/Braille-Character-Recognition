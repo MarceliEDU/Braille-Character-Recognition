{
  "nbformat": 4,
  "nbformat_minor": 0,
  "metadata": {
    "colab": {
      "provenance": [],
      "collapsed_sections": [
        "UvXEKhB9sPHn",
        "0QVd4NxvvXmG",
        "ph78h2QRwo-y"
      ],
      "gpuType": "T4",
      "mount_file_id": "156YKK2hs_hqXreCV1lB27kiiAQNFadho",
      "authorship_tag": "ABX9TyOXyCD6ZcH3+MPjFlRAnPQv",
      "include_colab_link": true
    },
    "kernelspec": {
      "name": "python3",
      "display_name": "Python 3"
    },
    "language_info": {
      "name": "python"
    },
    "accelerator": "GPU"
  },
  "cells": [
    {
      "cell_type": "markdown",
      "metadata": {
        "id": "view-in-github",
        "colab_type": "text"
      },
      "source": [
        "<a href=\"https://colab.research.google.com/github/MarceliEDU/Braille-Character-Recognition/blob/main/bcr.ipynb\" target=\"_parent\"><img src=\"https://colab.research.google.com/assets/colab-badge.svg\" alt=\"Open In Colab\"/></a>"
      ]
    },
    {
      "cell_type": "markdown",
      "source": [
        "#**Braille Character Recognition**\n",
        "---\n",
        "https://www.kaggle.com/datasets/shanks0465/braille-character-dataset"
      ],
      "metadata": {
        "id": "qenf2LbLixb7"
      }
    },
    {
      "cell_type": "markdown",
      "source": [
        "##Imports"
      ],
      "metadata": {
        "id": "AXrnJ3Pkjil2"
      }
    },
    {
      "cell_type": "code",
      "execution_count": null,
      "metadata": {
        "colab": {
          "base_uri": "https://localhost:8080/"
        },
        "id": "ika5CkfxFcCo",
        "outputId": "5592c63c-0ff9-41a3-def7-cdc470b832af"
      },
      "outputs": [
        {
          "output_type": "stream",
          "name": "stdout",
          "text": [
            "2.15.0\n"
          ]
        }
      ],
      "source": [
        "import tensorflow as tf\n",
        "from tensorflow import keras\n",
        "from keras.callbacks import EarlyStopping\n",
        "\n",
        "from pathlib import Path\n",
        "import matplotlib.pyplot as plt\n",
        "import os\n",
        "import cv2\n",
        "from sklearn.preprocessing import LabelEncoder\n",
        "from sklearn.model_selection import train_test_split\n",
        "\n",
        "print(tf.__version__)"
      ]
    },
    {
      "cell_type": "markdown",
      "source": [
        "##Preparing data"
      ],
      "metadata": {
        "id": "NdQalPZ6LX5w"
      }
    },
    {
      "cell_type": "code",
      "source": [
        "images_dir = Path('/content/drive/MyDrive/Colab Notebooks/archive/Braille Dataset/Braille Dataset');"
      ],
      "metadata": {
        "id": "RuHmjRiRLaM3"
      },
      "execution_count": null,
      "outputs": []
    },
    {
      "cell_type": "code",
      "source": [
        "dir_list = list(images_dir.glob('*.jpg'))\n",
        "images_count = len(dir_list)\n",
        "images_count"
      ],
      "metadata": {
        "colab": {
          "base_uri": "https://localhost:8080/"
        },
        "id": "_eC9nLyKNLxI",
        "outputId": "51ea1145-f8e1-409a-a065-9ab83acb499e"
      },
      "execution_count": null,
      "outputs": [
        {
          "output_type": "execute_result",
          "data": {
            "text/plain": [
              "1560"
            ]
          },
          "metadata": {},
          "execution_count": 35
        }
      ]
    },
    {
      "cell_type": "code",
      "source": [
        "#creating list of characters based on file names\n",
        "character_list = []\n",
        "for i in dir_list:\n",
        "    character_list.append(os.path.basename(i)[0])\n",
        "ch_list_copy = character_list"
      ],
      "metadata": {
        "id": "ueO-sOsys4sR"
      },
      "execution_count": null,
      "outputs": []
    },
    {
      "cell_type": "code",
      "source": [
        "#creating list if images\n",
        "images = []\n",
        "for dir in dir_list:\n",
        "    I = cv2.imread(str(dir))\n",
        "    images.append(I)"
      ],
      "metadata": {
        "id": "YJI1guzQkS8P"
      },
      "execution_count": null,
      "outputs": []
    },
    {
      "cell_type": "code",
      "source": [
        "#turn both lists in numpy arrays\n",
        "images_list = np.array(images)\n",
        "character_list = np.array(character_list).T #transpose"
      ],
      "metadata": {
        "id": "ecI-4ZCvkyTM"
      },
      "execution_count": null,
      "outputs": []
    },
    {
      "cell_type": "code",
      "source": [
        "#encodes character_list\n",
        "le = LabelEncoder()\n",
        "character_list = le.fit_transform(character_list) #returns encoded labels"
      ],
      "metadata": {
        "id": "Aw-QpiLpmHNI"
      },
      "execution_count": null,
      "outputs": []
    },
    {
      "cell_type": "code",
      "source": [
        "#covert image to 0 to 255 (pixel information)\n",
        "images_list = images_list / 255.0"
      ],
      "metadata": {
        "id": "5NzD5EHHniP7"
      },
      "execution_count": null,
      "outputs": []
    },
    {
      "cell_type": "code",
      "source": [
        "plt.imshow(images_list[0]) #image check"
      ],
      "metadata": {
        "colab": {
          "base_uri": "https://localhost:8080/",
          "height": 448
        },
        "id": "M3SEk8Rpn3D6",
        "outputId": "c5d2dd55-bb3b-4118-e174-c67db691e8f7"
      },
      "execution_count": null,
      "outputs": [
        {
          "output_type": "execute_result",
          "data": {
            "text/plain": [
              "<matplotlib.image.AxesImage at 0x7b6035e59180>"
            ]
          },
          "metadata": {},
          "execution_count": 41
        },
        {
          "output_type": "display_data",
          "data": {
            "text/plain": [
              "<Figure size 640x480 with 1 Axes>"
            ],
            "image/png": "[encoded data removed]"
          },
          "metadata": {}
        }
      ]
    },
    {
      "cell_type": "code",
      "source": [
        "#splitting data\n",
        "testing_data_percent = 20\n",
        "train_images, test_images, train_characters, test_characters = train_test_split(images_list, character_list, test_size=(testing_data_percent/100), random_state=69)"
      ],
      "metadata": {
        "id": "H-_EVKHan31-"
      },
      "execution_count": null,
      "outputs": []
    },
    {
      "cell_type": "markdown",
      "source": [
        "##Creating model\n",
        "Adam optimiser\n",
        "(from https://www.kaggle.com/code/amanrosekaursethi/braille-character-detection-using-cnn)"
      ],
      "metadata": {
        "id": "UvXEKhB9sPHn"
      }
    },
    {
      "cell_type": "code",
      "source": [
        "model = keras.Sequential([\n",
        "    keras.layers.Conv2D(filters=64, kernel_size=(5, 5), padding='same', activation='relu'),\n",
        "    keras.layers.MaxPooling2D(pool_size=(2,2)),\n",
        "    keras.layers.BatchNormalization(),\n",
        "\n",
        "    keras.layers.Conv2D(filters=64, kernel_size=(3, 3), padding='same', activation='relu'),\n",
        "    keras.layers.MaxPooling2D(pool_size=(2,2)),\n",
        "    keras.layers.Dropout(0.25),\n",
        "    keras.layers.BatchNormalization(),\n",
        "\n",
        "    keras.layers.Conv2D(filters=64, kernel_size=(3, 3), padding='same', activation='relu'),\n",
        "    keras.layers.MaxPooling2D(pool_size=(2,2)),\n",
        "    keras.layers.Dropout(0.25),\n",
        "    keras.layers.BatchNormalization(),\n",
        "\n",
        "    keras.layers.Flatten(),\n",
        "\n",
        "    keras.layers.Dense(units=576, activation=\"relu\"),\n",
        "    keras.layers.Dropout(0.25),\n",
        "    keras.layers.BatchNormalization(),\n",
        "\n",
        "    keras.layers.Dense(units=288, activation=\"relu\"),\n",
        "\n",
        "    keras.layers.Dense(units=26, activation=\"softmax\") #output layer\n",
        "])"
      ],
      "metadata": {
        "id": "0LUy0agrsOyR"
      },
      "execution_count": null,
      "outputs": []
    },
    {
      "cell_type": "code",
      "source": [
        "model.compile(optimizer=\"Adam\", loss=\"SparseCategoricalCrossentropy\", metrics=[\"sparse_categorical_accuracy\"])"
      ],
      "metadata": {
        "id": "gC0mq4_cuCb9"
      },
      "execution_count": null,
      "outputs": []
    },
    {
      "cell_type": "code",
      "source": [
        "#Keras EarlyStopping - Stop training when a monitored metric has stopped improving.\n",
        "es1 = EarlyStopping(patience=20, monitor=\"val_sparse_categorical_accuracy\", mode=\"auto\")\n",
        "es2 = EarlyStopping(patience=20, monitor=\"val_loss\", mode=\"auto\")\n",
        "\n",
        "#The neural network will stop fitting if it gets 20 epochs without converge"
      ],
      "metadata": {
        "id": "S8o1waY8ubmN"
      },
      "execution_count": null,
      "outputs": []
    },
    {
      "cell_type": "markdown",
      "source": [
        "#Training"
      ],
      "metadata": {
        "id": "0QVd4NxvvXmG"
      }
    },
    {
      "cell_type": "code",
      "source": [
        "history = model.fit(x=train_images,\n",
        "                    y=train_characters,\n",
        "                    epochs=100,\n",
        "                    validation_split=0.3,\n",
        "                    callbacks=[es1, es2])"
      ],
      "metadata": {
        "colab": {
          "base_uri": "https://localhost:8080/"
        },
        "id": "ZsOMpO2ivTb-",
        "outputId": "75946c22-991a-4a53-aa06-708a4015bdf1"
      },
      "execution_count": null,
      "outputs": [
        {
          "output_type": "stream",
          "name": "stdout",
          "text": [
            "Epoch 1/100\n",
            "28/28 [==============================] - 5s 25ms/step - loss: 3.3182 - sparse_categorical_accuracy: 0.1088 - val_loss: 3.2553 - val_sparse_categorical_accuracy: 0.0453\n",
            "Epoch 2/100\n",
            "28/28 [==============================] - 0s 14ms/step - loss: 2.2793 - sparse_categorical_accuracy: 0.3448 - val_loss: 3.8571 - val_sparse_categorical_accuracy: 0.0427\n",
            "Epoch 3/100\n",
            "28/28 [==============================] - 0s 10ms/step - loss: 1.6487 - sparse_categorical_accuracy: 0.5189 - val_loss: 5.4623 - val_sparse_categorical_accuracy: 0.0427\n",
            "Epoch 4/100\n",
            "28/28 [==============================] - 0s 9ms/step - loss: 1.3736 - sparse_categorical_accuracy: 0.5808 - val_loss: 6.9845 - val_sparse_categorical_accuracy: 0.0427\n",
            "Epoch 5/100\n",
            "28/28 [==============================] - 0s 10ms/step - loss: 0.9789 - sparse_categorical_accuracy: 0.7079 - val_loss: 7.9731 - val_sparse_categorical_accuracy: 0.0427\n",
            "Epoch 6/100\n",
            "28/28 [==============================] - 0s 10ms/step - loss: 0.8137 - sparse_categorical_accuracy: 0.7606 - val_loss: 10.1756 - val_sparse_categorical_accuracy: 0.0427\n",
            "Epoch 7/100\n",
            "28/28 [==============================] - 0s 9ms/step - loss: 0.7005 - sparse_categorical_accuracy: 0.7892 - val_loss: 11.5058 - val_sparse_categorical_accuracy: 0.0427\n",
            "Epoch 8/100\n",
            "28/28 [==============================] - 0s 10ms/step - loss: 0.5674 - sparse_categorical_accuracy: 0.8247 - val_loss: 12.7080 - val_sparse_categorical_accuracy: 0.0427\n",
            "Epoch 9/100\n",
            "28/28 [==============================] - 0s 8ms/step - loss: 0.4886 - sparse_categorical_accuracy: 0.8408 - val_loss: 11.8310 - val_sparse_categorical_accuracy: 0.0427\n",
            "Epoch 10/100\n",
            "28/28 [==============================] - 0s 9ms/step - loss: 0.4369 - sparse_categorical_accuracy: 0.8694 - val_loss: 9.7307 - val_sparse_categorical_accuracy: 0.0427\n",
            "Epoch 11/100\n",
            "28/28 [==============================] - 0s 8ms/step - loss: 0.3427 - sparse_categorical_accuracy: 0.8946 - val_loss: 13.1851 - val_sparse_categorical_accuracy: 0.0427\n",
            "Epoch 12/100\n",
            "28/28 [==============================] - 0s 8ms/step - loss: 0.2978 - sparse_categorical_accuracy: 0.9129 - val_loss: 12.7239 - val_sparse_categorical_accuracy: 0.0427\n",
            "Epoch 13/100\n",
            "28/28 [==============================] - 0s 9ms/step - loss: 0.2525 - sparse_categorical_accuracy: 0.9129 - val_loss: 13.1396 - val_sparse_categorical_accuracy: 0.0427\n",
            "Epoch 14/100\n",
            "28/28 [==============================] - 0s 10ms/step - loss: 0.2620 - sparse_categorical_accuracy: 0.9118 - val_loss: 11.7482 - val_sparse_categorical_accuracy: 0.0427\n",
            "Epoch 15/100\n",
            "28/28 [==============================] - 0s 9ms/step - loss: 0.1779 - sparse_categorical_accuracy: 0.9450 - val_loss: 7.1749 - val_sparse_categorical_accuracy: 0.0560\n",
            "Epoch 16/100\n",
            "28/28 [==============================] - 0s 9ms/step - loss: 0.1644 - sparse_categorical_accuracy: 0.9553 - val_loss: 8.9632 - val_sparse_categorical_accuracy: 0.0427\n",
            "Epoch 17/100\n",
            "28/28 [==============================] - 0s 10ms/step - loss: 0.1764 - sparse_categorical_accuracy: 0.9496 - val_loss: 1.7885 - val_sparse_categorical_accuracy: 0.5547\n",
            "Epoch 18/100\n",
            "28/28 [==============================] - 0s 10ms/step - loss: 0.1415 - sparse_categorical_accuracy: 0.9565 - val_loss: 0.9525 - val_sparse_categorical_accuracy: 0.7173\n",
            "Epoch 19/100\n",
            "28/28 [==============================] - 0s 9ms/step - loss: 0.1331 - sparse_categorical_accuracy: 0.9668 - val_loss: 1.7739 - val_sparse_categorical_accuracy: 0.5147\n",
            "Epoch 20/100\n",
            "28/28 [==============================] - 0s 9ms/step - loss: 0.1022 - sparse_categorical_accuracy: 0.9691 - val_loss: 0.5329 - val_sparse_categorical_accuracy: 0.8640\n",
            "Epoch 21/100\n",
            "28/28 [==============================] - 0s 9ms/step - loss: 0.1158 - sparse_categorical_accuracy: 0.9702 - val_loss: 0.5405 - val_sparse_categorical_accuracy: 0.8587\n",
            "Epoch 22/100\n",
            "28/28 [==============================] - 0s 9ms/step - loss: 0.1008 - sparse_categorical_accuracy: 0.9702 - val_loss: 0.5381 - val_sparse_categorical_accuracy: 0.8667\n",
            "Epoch 23/100\n",
            "28/28 [==============================] - 0s 9ms/step - loss: 0.1013 - sparse_categorical_accuracy: 0.9668 - val_loss: 0.4162 - val_sparse_categorical_accuracy: 0.9040\n",
            "Epoch 24/100\n",
            "28/28 [==============================] - 0s 10ms/step - loss: 0.0701 - sparse_categorical_accuracy: 0.9805 - val_loss: 0.3441 - val_sparse_categorical_accuracy: 0.9147\n",
            "Epoch 25/100\n",
            "28/28 [==============================] - 0s 10ms/step - loss: 0.1253 - sparse_categorical_accuracy: 0.9553 - val_loss: 0.4134 - val_sparse_categorical_accuracy: 0.9040\n",
            "Epoch 26/100\n",
            "28/28 [==============================] - 0s 10ms/step - loss: 0.0908 - sparse_categorical_accuracy: 0.9725 - val_loss: 0.3396 - val_sparse_categorical_accuracy: 0.9147\n",
            "Epoch 27/100\n",
            "28/28 [==============================] - 0s 10ms/step - loss: 0.0979 - sparse_categorical_accuracy: 0.9691 - val_loss: 0.3230 - val_sparse_categorical_accuracy: 0.9253\n",
            "Epoch 28/100\n",
            "28/28 [==============================] - 0s 9ms/step - loss: 0.1065 - sparse_categorical_accuracy: 0.9576 - val_loss: 0.5194 - val_sparse_categorical_accuracy: 0.8773\n",
            "Epoch 29/100\n",
            "28/28 [==============================] - 0s 9ms/step - loss: 0.0771 - sparse_categorical_accuracy: 0.9817 - val_loss: 0.5022 - val_sparse_categorical_accuracy: 0.8800\n",
            "Epoch 30/100\n",
            "28/28 [==============================] - 0s 10ms/step - loss: 0.0759 - sparse_categorical_accuracy: 0.9828 - val_loss: 0.3790 - val_sparse_categorical_accuracy: 0.9253\n",
            "Epoch 31/100\n",
            "28/28 [==============================] - 0s 8ms/step - loss: 0.0582 - sparse_categorical_accuracy: 0.9840 - val_loss: 0.9715 - val_sparse_categorical_accuracy: 0.8187\n",
            "Epoch 32/100\n",
            "28/28 [==============================] - 0s 9ms/step - loss: 0.0507 - sparse_categorical_accuracy: 0.9874 - val_loss: 0.3397 - val_sparse_categorical_accuracy: 0.9333\n",
            "Epoch 33/100\n",
            "28/28 [==============================] - 0s 9ms/step - loss: 0.0473 - sparse_categorical_accuracy: 0.9885 - val_loss: 0.3921 - val_sparse_categorical_accuracy: 0.9253\n",
            "Epoch 34/100\n",
            "28/28 [==============================] - 0s 9ms/step - loss: 0.0595 - sparse_categorical_accuracy: 0.9805 - val_loss: 0.5419 - val_sparse_categorical_accuracy: 0.8960\n",
            "Epoch 35/100\n",
            "28/28 [==============================] - 0s 11ms/step - loss: 0.0959 - sparse_categorical_accuracy: 0.9656 - val_loss: 0.5355 - val_sparse_categorical_accuracy: 0.9013\n",
            "Epoch 36/100\n",
            "28/28 [==============================] - 0s 10ms/step - loss: 0.0598 - sparse_categorical_accuracy: 0.9805 - val_loss: 0.3080 - val_sparse_categorical_accuracy: 0.9280\n",
            "Epoch 37/100\n",
            "28/28 [==============================] - 0s 10ms/step - loss: 0.0895 - sparse_categorical_accuracy: 0.9679 - val_loss: 0.2985 - val_sparse_categorical_accuracy: 0.9227\n",
            "Epoch 38/100\n",
            "28/28 [==============================] - 0s 10ms/step - loss: 0.0983 - sparse_categorical_accuracy: 0.9656 - val_loss: 0.3622 - val_sparse_categorical_accuracy: 0.9120\n",
            "Epoch 39/100\n",
            "28/28 [==============================] - 0s 9ms/step - loss: 0.0672 - sparse_categorical_accuracy: 0.9771 - val_loss: 0.3439 - val_sparse_categorical_accuracy: 0.9333\n",
            "Epoch 40/100\n",
            "28/28 [==============================] - 0s 9ms/step - loss: 0.0506 - sparse_categorical_accuracy: 0.9840 - val_loss: 0.3205 - val_sparse_categorical_accuracy: 0.9227\n",
            "Epoch 41/100\n",
            "28/28 [==============================] - 0s 11ms/step - loss: 0.0481 - sparse_categorical_accuracy: 0.9840 - val_loss: 0.2939 - val_sparse_categorical_accuracy: 0.9387\n",
            "Epoch 42/100\n",
            "28/28 [==============================] - 0s 12ms/step - loss: 0.0411 - sparse_categorical_accuracy: 0.9897 - val_loss: 0.3539 - val_sparse_categorical_accuracy: 0.9360\n",
            "Epoch 43/100\n",
            "28/28 [==============================] - 0s 13ms/step - loss: 0.0456 - sparse_categorical_accuracy: 0.9840 - val_loss: 0.2856 - val_sparse_categorical_accuracy: 0.9360\n",
            "Epoch 44/100\n",
            "28/28 [==============================] - 0s 13ms/step - loss: 0.0607 - sparse_categorical_accuracy: 0.9817 - val_loss: 0.2751 - val_sparse_categorical_accuracy: 0.9253\n",
            "Epoch 45/100\n",
            "28/28 [==============================] - 0s 14ms/step - loss: 0.0871 - sparse_categorical_accuracy: 0.9691 - val_loss: 0.3896 - val_sparse_categorical_accuracy: 0.9173\n",
            "Epoch 46/100\n",
            "28/28 [==============================] - 0s 14ms/step - loss: 0.0556 - sparse_categorical_accuracy: 0.9828 - val_loss: 0.4816 - val_sparse_categorical_accuracy: 0.9120\n",
            "Epoch 47/100\n",
            "28/28 [==============================] - 0s 14ms/step - loss: 0.0541 - sparse_categorical_accuracy: 0.9782 - val_loss: 0.3427 - val_sparse_categorical_accuracy: 0.9333\n",
            "Epoch 48/100\n",
            "28/28 [==============================] - 0s 13ms/step - loss: 0.0341 - sparse_categorical_accuracy: 0.9874 - val_loss: 0.3581 - val_sparse_categorical_accuracy: 0.9307\n",
            "Epoch 49/100\n",
            "28/28 [==============================] - 0s 13ms/step - loss: 0.0351 - sparse_categorical_accuracy: 0.9920 - val_loss: 0.2566 - val_sparse_categorical_accuracy: 0.9387\n",
            "Epoch 50/100\n",
            "28/28 [==============================] - 0s 13ms/step - loss: 0.0268 - sparse_categorical_accuracy: 0.9931 - val_loss: 0.2476 - val_sparse_categorical_accuracy: 0.9387\n",
            "Epoch 51/100\n",
            "28/28 [==============================] - 0s 13ms/step - loss: 0.0278 - sparse_categorical_accuracy: 0.9908 - val_loss: 0.2873 - val_sparse_categorical_accuracy: 0.9387\n",
            "Epoch 52/100\n",
            "28/28 [==============================] - 0s 10ms/step - loss: 0.0567 - sparse_categorical_accuracy: 0.9817 - val_loss: 0.2880 - val_sparse_categorical_accuracy: 0.9253\n",
            "Epoch 53/100\n",
            "28/28 [==============================] - 0s 10ms/step - loss: 0.0410 - sparse_categorical_accuracy: 0.9840 - val_loss: 0.2872 - val_sparse_categorical_accuracy: 0.9440\n",
            "Epoch 54/100\n",
            "28/28 [==============================] - 0s 10ms/step - loss: 0.0692 - sparse_categorical_accuracy: 0.9782 - val_loss: 0.3007 - val_sparse_categorical_accuracy: 0.9467\n",
            "Epoch 55/100\n",
            "28/28 [==============================] - 0s 9ms/step - loss: 0.0637 - sparse_categorical_accuracy: 0.9805 - val_loss: 0.4742 - val_sparse_categorical_accuracy: 0.9040\n",
            "Epoch 56/100\n",
            "28/28 [==============================] - 0s 8ms/step - loss: 0.0658 - sparse_categorical_accuracy: 0.9794 - val_loss: 0.3348 - val_sparse_categorical_accuracy: 0.9200\n",
            "Epoch 57/100\n",
            "28/28 [==============================] - 0s 8ms/step - loss: 0.0726 - sparse_categorical_accuracy: 0.9691 - val_loss: 0.5379 - val_sparse_categorical_accuracy: 0.9040\n",
            "Epoch 58/100\n",
            "28/28 [==============================] - 0s 10ms/step - loss: 0.0490 - sparse_categorical_accuracy: 0.9817 - val_loss: 0.4599 - val_sparse_categorical_accuracy: 0.9173\n",
            "Epoch 59/100\n",
            "28/28 [==============================] - 0s 9ms/step - loss: 0.0477 - sparse_categorical_accuracy: 0.9851 - val_loss: 0.4030 - val_sparse_categorical_accuracy: 0.9253\n",
            "Epoch 60/100\n",
            "28/28 [==============================] - 0s 8ms/step - loss: 0.0436 - sparse_categorical_accuracy: 0.9885 - val_loss: 0.3393 - val_sparse_categorical_accuracy: 0.9307\n",
            "Epoch 61/100\n",
            "28/28 [==============================] - 0s 9ms/step - loss: 0.0277 - sparse_categorical_accuracy: 0.9943 - val_loss: 0.3026 - val_sparse_categorical_accuracy: 0.9413\n",
            "Epoch 62/100\n",
            "28/28 [==============================] - 0s 8ms/step - loss: 0.0379 - sparse_categorical_accuracy: 0.9897 - val_loss: 0.3739 - val_sparse_categorical_accuracy: 0.9253\n",
            "Epoch 63/100\n",
            "28/28 [==============================] - 0s 8ms/step - loss: 0.0197 - sparse_categorical_accuracy: 0.9943 - val_loss: 0.3102 - val_sparse_categorical_accuracy: 0.9333\n",
            "Epoch 64/100\n",
            "28/28 [==============================] - 0s 9ms/step - loss: 0.0275 - sparse_categorical_accuracy: 0.9920 - val_loss: 0.3075 - val_sparse_categorical_accuracy: 0.9360\n",
            "Epoch 65/100\n",
            "28/28 [==============================] - 0s 8ms/step - loss: 0.0375 - sparse_categorical_accuracy: 0.9863 - val_loss: 0.3976 - val_sparse_categorical_accuracy: 0.9253\n",
            "Epoch 66/100\n",
            "28/28 [==============================] - 0s 10ms/step - loss: 0.0392 - sparse_categorical_accuracy: 0.9863 - val_loss: 0.3214 - val_sparse_categorical_accuracy: 0.9360\n",
            "Epoch 67/100\n",
            "28/28 [==============================] - 0s 9ms/step - loss: 0.0337 - sparse_categorical_accuracy: 0.9897 - val_loss: 0.3075 - val_sparse_categorical_accuracy: 0.9280\n",
            "Epoch 68/100\n",
            "28/28 [==============================] - 0s 9ms/step - loss: 0.0511 - sparse_categorical_accuracy: 0.9851 - val_loss: 0.3367 - val_sparse_categorical_accuracy: 0.9333\n",
            "Epoch 69/100\n",
            "28/28 [==============================] - 0s 9ms/step - loss: 0.0467 - sparse_categorical_accuracy: 0.9897 - val_loss: 0.3035 - val_sparse_categorical_accuracy: 0.9360\n",
            "Epoch 70/100\n",
            "28/28 [==============================] - 0s 12ms/step - loss: 0.0570 - sparse_categorical_accuracy: 0.9794 - val_loss: 0.2862 - val_sparse_categorical_accuracy: 0.9413\n"
          ]
        }
      ]
    },
    {
      "cell_type": "code",
      "source": [
        "model.summary()"
      ],
      "metadata": {
        "colab": {
          "base_uri": "https://localhost:8080/"
        },
        "id": "JvmER3ryvp5q",
        "outputId": "1a4ab18d-7746-4a6d-c61a-b1f83b790a12"
      },
      "execution_count": null,
      "outputs": [
        {
          "output_type": "stream",
          "name": "stdout",
          "text": [
            "Model: \"sequential_1\"\n",
            "_________________________________________________________________\n",
            " Layer (type)                Output Shape              Param #   \n",
            "=================================================================\n",
            " conv2d_3 (Conv2D)           (None, 28, 28, 64)        4864      \n",
            "                                                                 \n",
            " max_pooling2d_3 (MaxPoolin  (None, 14, 14, 64)        0         \n",
            " g2D)                                                            \n",
            "                                                                 \n",
            " batch_normalization_4 (Bat  (None, 14, 14, 64)        256       \n",
            " chNormalization)                                                \n",
            "                                                                 \n",
            " conv2d_4 (Conv2D)           (None, 14, 14, 64)        36928     \n",
            "                                                                 \n",
            " max_pooling2d_4 (MaxPoolin  (None, 7, 7, 64)          0         \n",
            " g2D)                                                            \n",
            "                                                                 \n",
            " dropout_3 (Dropout)         (None, 7, 7, 64)          0         \n",
            "                                                                 \n",
            " batch_normalization_5 (Bat  (None, 7, 7, 64)          256       \n",
            " chNormalization)                                                \n",
            "                                                                 \n",
            " conv2d_5 (Conv2D)           (None, 7, 7, 64)          36928     \n",
            "                                                                 \n",
            " max_pooling2d_5 (MaxPoolin  (None, 3, 3, 64)          0         \n",
            " g2D)                                                            \n",
            "                                                                 \n",
            " dropout_4 (Dropout)         (None, 3, 3, 64)          0         \n",
            "                                                                 \n",
            " batch_normalization_6 (Bat  (None, 3, 3, 64)          256       \n",
            " chNormalization)                                                \n",
            "                                                                 \n",
            " flatten_1 (Flatten)         (None, 576)               0         \n",
            "                                                                 \n",
            " dense_3 (Dense)             (None, 576)               332352    \n",
            "                                                                 \n",
            " dropout_5 (Dropout)         (None, 576)               0         \n",
            "                                                                 \n",
            " batch_normalization_7 (Bat  (None, 576)               2304      \n",
            " chNormalization)                                                \n",
            "                                                                 \n",
            " dense_4 (Dense)             (None, 288)               166176    \n",
            "                                                                 \n",
            " dense_5 (Dense)             (None, 26)                7514      \n",
            "                                                                 \n",
            "=================================================================\n",
            "Total params: 587834 (2.24 MB)\n",
            "Trainable params: 586298 (2.24 MB)\n",
            "Non-trainable params: 1536 (6.00 KB)\n",
            "_________________________________________________________________\n"
          ]
        }
      ]
    },
    {
      "cell_type": "markdown",
      "source": [
        "#Checking results"
      ],
      "metadata": {
        "id": "ph78h2QRwo-y"
      }
    },
    {
      "cell_type": "code",
      "source": [
        "time = np.arange(1, len(history.history['loss'])+1)"
      ],
      "metadata": {
        "id": "Mk-yfLjgwlBS"
      },
      "execution_count": null,
      "outputs": []
    },
    {
      "cell_type": "code",
      "source": [
        "sns.lineplot(data=history.history, x=time, y='loss')\n",
        "sns.lineplot(data=history.history, x=time, y='val_loss')\n",
        "plt.title('Loss fitting history')\n",
        "plt.legend(labels=['Loss', 'Validation loss'])\n",
        "plt.show()"
      ],
      "metadata": {
        "colab": {
          "base_uri": "https://localhost:8080/",
          "height": 452
        },
        "id": "zHb-Y4ZQw20i",
        "outputId": "7daaf7ef-05c2-4528-c396-3804c82adb75"
      },
      "execution_count": null,
      "outputs": [
        {
          "output_type": "display_data",
          "data": {
            "text/plain": [
              "<Figure size 640x480 with 1 Axes>"
            ],
            "image/png": "[encoded data removed]"
          },
          "metadata": {}
        }
      ]
    },
    {
      "cell_type": "code",
      "source": [
        "sns.lineplot(data=history.history, x=time, y='val_sparse_categorical_accuracy')\n",
        "sns.lineplot(data=history.history, x=time, y='sparse_categorical_accuracy')\n",
        "plt.title('Accuracy fitting history')\n",
        "plt.legend(labels=['Accuracy', 'Valuation accuracy'])\n",
        "plt.show()"
      ],
      "metadata": {
        "colab": {
          "base_uri": "https://localhost:8080/",
          "height": 452
        },
        "id": "sy3QcVLQxw0_",
        "outputId": "c1f7dd9d-1c77-45e7-b5bb-4e0c8027dc56"
      },
      "execution_count": null,
      "outputs": [
        {
          "output_type": "display_data",
          "data": {
            "text/plain": [
              "<Figure size 640x480 with 1 Axes>"
            ],
            "image/png": "[encoded data removed]"
          },
          "metadata": {}
        }
      ]
    },
    {
      "cell_type": "code",
      "source": [
        "#evaluation\n",
        "model.evaluate(test_images, test_characters);"
      ],
      "metadata": {
        "colab": {
          "base_uri": "https://localhost:8080/"
        },
        "id": "Ybvel8mmx0_S",
        "outputId": "a622a3b0-10bd-4e8c-c014-d9f10e77ca69"
      },
      "execution_count": null,
      "outputs": [
        {
          "output_type": "stream",
          "name": "stdout",
          "text": [
            "10/10 [==============================] - 0s 3ms/step - loss: 0.1604 - sparse_categorical_accuracy: 0.9519\n"
          ]
        }
      ]
    },
    {
      "cell_type": "markdown",
      "source": [
        "#Testing"
      ],
      "metadata": {
        "id": "A6qLeMmhydzd"
      }
    },
    {
      "cell_type": "code",
      "source": [
        "# 0 - 1559\n",
        "index = 1559\n",
        "\n",
        "print(\"Inputted data:\", character_list[index], \"-\", ch_list_copy[index])\n",
        "\n",
        "\n",
        "input_image = np.expand_dims(images_list[index], axis=0) #putting image into array\n",
        "\n",
        "predictions = model.predict(input_image)\n",
        "predicted_class = np.argmax(predictions)\n",
        "print(\"Predicted class:\", predicted_class, \"-\", (chr(ord('a') + predicted_class)))\n",
        "\n",
        "\n",
        "plt.imshow(images_list[index])\n",
        "plt.title('Braille character')\n",
        "plt.show()"
      ],
      "metadata": {
        "colab": {
          "base_uri": "https://localhost:8080/",
          "height": 506
        },
        "id": "uKpf_Itw0EG8",
        "outputId": "d1a1c6ed-753e-41e4-c946-b04ded419e4e"
      },
      "execution_count": null,
      "outputs": [
        {
          "output_type": "stream",
          "name": "stdout",
          "text": [
            "Inputted data: 10 - k\n",
            "1/1 [==============================] - 0s 21ms/step\n",
            "Predicted class: 10 - k\n"
          ]
        },
        {
          "output_type": "display_data",
          "data": {
            "text/plain": [
              "<Figure size 640x480 with 1 Axes>"
            ],
            "image/png": "[encoded data removed]"
          },
          "metadata": {}
        }
      ]
    }
  ]
}